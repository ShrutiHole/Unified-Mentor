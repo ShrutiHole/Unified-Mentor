{
 "cells": [
  {
   "cell_type": "code",
   "execution_count": 1,
   "id": "70f47025-ffce-43c8-a27c-34beaab9a6d5",
   "metadata": {},
   "outputs": [],
   "source": [
    "import numpy as np\n",
    "import pandas as pd\n",
    "import seaborn as sns\n",
    "import matplotlib.pyplot as plt"
   ]
  },
  {
   "cell_type": "code",
   "execution_count": 2,
   "id": "ab8073c6-2574-4064-bf7a-0d590efc6205",
   "metadata": {},
   "outputs": [],
   "source": [
    "finance=pd.read_csv(r\"C:\\Users\\afl21\\OneDrive\\Desktop\\MCA\\Internship\\UNIFIED MENTOR\\FINANCIAL ANALYTICS\\Financial Analytics data.csv\")"
   ]
  },
  {
   "cell_type": "code",
   "execution_count": 3,
   "id": "1fc87bca-b707-4219-ae34-e6af9268a534",
   "metadata": {},
   "outputs": [
    {
     "data": {
      "text/html": [
       "<div>\n",
       "<style scoped>\n",
       "    .dataframe tbody tr th:only-of-type {\n",
       "        vertical-align: middle;\n",
       "    }\n",
       "\n",
       "    .dataframe tbody tr th {\n",
       "        vertical-align: top;\n",
       "    }\n",
       "\n",
       "    .dataframe thead th {\n",
       "        text-align: right;\n",
       "    }\n",
       "</style>\n",
       "<table border=\"1\" class=\"dataframe\">\n",
       "  <thead>\n",
       "    <tr style=\"text-align: right;\">\n",
       "      <th></th>\n",
       "      <th>S.No.</th>\n",
       "      <th>Name</th>\n",
       "      <th>Mar Cap - Crore</th>\n",
       "      <th>Sales Qtr - Crore</th>\n",
       "    </tr>\n",
       "  </thead>\n",
       "  <tbody>\n",
       "    <tr>\n",
       "      <th>0</th>\n",
       "      <td>1</td>\n",
       "      <td>Reliance Inds.</td>\n",
       "      <td>583436.72</td>\n",
       "      <td>99810.00</td>\n",
       "    </tr>\n",
       "    <tr>\n",
       "      <th>1</th>\n",
       "      <td>2</td>\n",
       "      <td>TCS</td>\n",
       "      <td>563709.84</td>\n",
       "      <td>30904.00</td>\n",
       "    </tr>\n",
       "    <tr>\n",
       "      <th>2</th>\n",
       "      <td>3</td>\n",
       "      <td>HDFC Bank</td>\n",
       "      <td>482953.59</td>\n",
       "      <td>20581.27</td>\n",
       "    </tr>\n",
       "    <tr>\n",
       "      <th>3</th>\n",
       "      <td>4</td>\n",
       "      <td>ITC</td>\n",
       "      <td>320985.27</td>\n",
       "      <td>9772.02</td>\n",
       "    </tr>\n",
       "    <tr>\n",
       "      <th>4</th>\n",
       "      <td>5</td>\n",
       "      <td>H D F C</td>\n",
       "      <td>289497.37</td>\n",
       "      <td>16840.51</td>\n",
       "    </tr>\n",
       "  </tbody>\n",
       "</table>\n",
       "</div>"
      ],
      "text/plain": [
       "   S.No.            Name  Mar Cap - Crore  Sales Qtr - Crore\n",
       "0      1  Reliance Inds.        583436.72           99810.00\n",
       "1      2             TCS        563709.84           30904.00\n",
       "2      3       HDFC Bank        482953.59           20581.27\n",
       "3      4             ITC        320985.27            9772.02\n",
       "4      5         H D F C        289497.37           16840.51"
      ]
     },
     "execution_count": 3,
     "metadata": {},
     "output_type": "execute_result"
    }
   ],
   "source": [
    "finance.head()"
   ]
  },
  {
   "cell_type": "code",
   "execution_count": 4,
   "id": "0a2d3522-e5bc-416c-a55e-5584eccefad9",
   "metadata": {},
   "outputs": [
    {
     "data": {
      "text/html": [
       "<div>\n",
       "<style scoped>\n",
       "    .dataframe tbody tr th:only-of-type {\n",
       "        vertical-align: middle;\n",
       "    }\n",
       "\n",
       "    .dataframe tbody tr th {\n",
       "        vertical-align: top;\n",
       "    }\n",
       "\n",
       "    .dataframe thead th {\n",
       "        text-align: right;\n",
       "    }\n",
       "</style>\n",
       "<table border=\"1\" class=\"dataframe\">\n",
       "  <thead>\n",
       "    <tr style=\"text-align: right;\">\n",
       "      <th></th>\n",
       "      <th>S.No.</th>\n",
       "      <th>Name</th>\n",
       "      <th>Mar Cap - Crore</th>\n",
       "      <th>Sales Qtr - Crore</th>\n",
       "    </tr>\n",
       "  </thead>\n",
       "  <tbody>\n",
       "    <tr>\n",
       "      <th>0</th>\n",
       "      <td>False</td>\n",
       "      <td>False</td>\n",
       "      <td>False</td>\n",
       "      <td>False</td>\n",
       "    </tr>\n",
       "    <tr>\n",
       "      <th>1</th>\n",
       "      <td>False</td>\n",
       "      <td>False</td>\n",
       "      <td>False</td>\n",
       "      <td>False</td>\n",
       "    </tr>\n",
       "    <tr>\n",
       "      <th>2</th>\n",
       "      <td>False</td>\n",
       "      <td>False</td>\n",
       "      <td>False</td>\n",
       "      <td>False</td>\n",
       "    </tr>\n",
       "    <tr>\n",
       "      <th>3</th>\n",
       "      <td>False</td>\n",
       "      <td>False</td>\n",
       "      <td>False</td>\n",
       "      <td>False</td>\n",
       "    </tr>\n",
       "    <tr>\n",
       "      <th>4</th>\n",
       "      <td>False</td>\n",
       "      <td>False</td>\n",
       "      <td>False</td>\n",
       "      <td>False</td>\n",
       "    </tr>\n",
       "    <tr>\n",
       "      <th>...</th>\n",
       "      <td>...</td>\n",
       "      <td>...</td>\n",
       "      <td>...</td>\n",
       "      <td>...</td>\n",
       "    </tr>\n",
       "    <tr>\n",
       "      <th>483</th>\n",
       "      <td>False</td>\n",
       "      <td>False</td>\n",
       "      <td>False</td>\n",
       "      <td>False</td>\n",
       "    </tr>\n",
       "    <tr>\n",
       "      <th>484</th>\n",
       "      <td>False</td>\n",
       "      <td>False</td>\n",
       "      <td>False</td>\n",
       "      <td>False</td>\n",
       "    </tr>\n",
       "    <tr>\n",
       "      <th>485</th>\n",
       "      <td>False</td>\n",
       "      <td>False</td>\n",
       "      <td>False</td>\n",
       "      <td>False</td>\n",
       "    </tr>\n",
       "    <tr>\n",
       "      <th>486</th>\n",
       "      <td>False</td>\n",
       "      <td>False</td>\n",
       "      <td>False</td>\n",
       "      <td>False</td>\n",
       "    </tr>\n",
       "    <tr>\n",
       "      <th>487</th>\n",
       "      <td>False</td>\n",
       "      <td>False</td>\n",
       "      <td>False</td>\n",
       "      <td>False</td>\n",
       "    </tr>\n",
       "  </tbody>\n",
       "</table>\n",
       "<p>488 rows × 4 columns</p>\n",
       "</div>"
      ],
      "text/plain": [
       "     S.No.   Name  Mar Cap - Crore  Sales Qtr - Crore\n",
       "0    False  False            False              False\n",
       "1    False  False            False              False\n",
       "2    False  False            False              False\n",
       "3    False  False            False              False\n",
       "4    False  False            False              False\n",
       "..     ...    ...              ...                ...\n",
       "483  False  False            False              False\n",
       "484  False  False            False              False\n",
       "485  False  False            False              False\n",
       "486  False  False            False              False\n",
       "487  False  False            False              False\n",
       "\n",
       "[488 rows x 4 columns]"
      ]
     },
     "execution_count": 4,
     "metadata": {},
     "output_type": "execute_result"
    }
   ],
   "source": [
    "finance.isnull()"
   ]
  },
  {
   "cell_type": "code",
   "execution_count": 5,
   "id": "a0b59585-4870-4b0a-9b92-fb49f13478c7",
   "metadata": {},
   "outputs": [
    {
     "data": {
      "text/plain": [
       "S.No.                0\n",
       "Name                 0\n",
       "Mar Cap - Crore      0\n",
       "Sales Qtr - Crore    0\n",
       "dtype: int64"
      ]
     },
     "execution_count": 5,
     "metadata": {},
     "output_type": "execute_result"
    }
   ],
   "source": [
    "finance.isnull().sum()"
   ]
  },
  {
   "cell_type": "code",
   "execution_count": 6,
   "id": "6a98cd7a-4d71-4559-b728-a24986d684c4",
   "metadata": {},
   "outputs": [
    {
     "name": "stdout",
     "output_type": "stream",
     "text": [
      "<class 'pandas.core.frame.DataFrame'>\n",
      "RangeIndex: 488 entries, 0 to 487\n",
      "Data columns (total 4 columns):\n",
      " #   Column             Non-Null Count  Dtype  \n",
      "---  ------             --------------  -----  \n",
      " 0   S.No.              488 non-null    int64  \n",
      " 1   Name               488 non-null    object \n",
      " 2   Mar Cap - Crore    488 non-null    float64\n",
      " 3   Sales Qtr - Crore  488 non-null    float64\n",
      "dtypes: float64(2), int64(1), object(1)\n",
      "memory usage: 15.4+ KB\n"
     ]
    }
   ],
   "source": [
    "finance.info()"
   ]
  },
  {
   "cell_type": "code",
   "execution_count": 7,
   "id": "d04e4f8d-e91e-4f5c-ab18-acc9be989b46",
   "metadata": {},
   "outputs": [
    {
     "data": {
      "text/html": [
       "<div>\n",
       "<style scoped>\n",
       "    .dataframe tbody tr th:only-of-type {\n",
       "        vertical-align: middle;\n",
       "    }\n",
       "\n",
       "    .dataframe tbody tr th {\n",
       "        vertical-align: top;\n",
       "    }\n",
       "\n",
       "    .dataframe thead th {\n",
       "        text-align: right;\n",
       "    }\n",
       "</style>\n",
       "<table border=\"1\" class=\"dataframe\">\n",
       "  <thead>\n",
       "    <tr style=\"text-align: right;\">\n",
       "      <th></th>\n",
       "      <th>S.No.</th>\n",
       "      <th>Mar Cap - Crore</th>\n",
       "      <th>Sales Qtr - Crore</th>\n",
       "    </tr>\n",
       "  </thead>\n",
       "  <tbody>\n",
       "    <tr>\n",
       "      <th>count</th>\n",
       "      <td>488.000000</td>\n",
       "      <td>488.000000</td>\n",
       "      <td>488.000000</td>\n",
       "    </tr>\n",
       "    <tr>\n",
       "      <th>mean</th>\n",
       "      <td>251.508197</td>\n",
       "      <td>27526.654836</td>\n",
       "      <td>3581.506844</td>\n",
       "    </tr>\n",
       "    <tr>\n",
       "      <th>std</th>\n",
       "      <td>145.884078</td>\n",
       "      <td>59033.540015</td>\n",
       "      <td>9729.282622</td>\n",
       "    </tr>\n",
       "    <tr>\n",
       "      <th>min</th>\n",
       "      <td>1.000000</td>\n",
       "      <td>0.000000</td>\n",
       "      <td>0.000000</td>\n",
       "    </tr>\n",
       "    <tr>\n",
       "      <th>25%</th>\n",
       "      <td>122.750000</td>\n",
       "      <td>4643.832500</td>\n",
       "      <td>459.357500</td>\n",
       "    </tr>\n",
       "    <tr>\n",
       "      <th>50%</th>\n",
       "      <td>252.500000</td>\n",
       "      <td>9460.155000</td>\n",
       "      <td>982.300000</td>\n",
       "    </tr>\n",
       "    <tr>\n",
       "      <th>75%</th>\n",
       "      <td>378.250000</td>\n",
       "      <td>23400.815000</td>\n",
       "      <td>2580.797500</td>\n",
       "    </tr>\n",
       "    <tr>\n",
       "      <th>max</th>\n",
       "      <td>500.000000</td>\n",
       "      <td>583436.720000</td>\n",
       "      <td>110666.930000</td>\n",
       "    </tr>\n",
       "  </tbody>\n",
       "</table>\n",
       "</div>"
      ],
      "text/plain": [
       "            S.No.  Mar Cap - Crore  Sales Qtr - Crore\n",
       "count  488.000000       488.000000         488.000000\n",
       "mean   251.508197     27526.654836        3581.506844\n",
       "std    145.884078     59033.540015        9729.282622\n",
       "min      1.000000         0.000000           0.000000\n",
       "25%    122.750000      4643.832500         459.357500\n",
       "50%    252.500000      9460.155000         982.300000\n",
       "75%    378.250000     23400.815000        2580.797500\n",
       "max    500.000000    583436.720000      110666.930000"
      ]
     },
     "execution_count": 7,
     "metadata": {},
     "output_type": "execute_result"
    }
   ],
   "source": [
    "finance.describe()"
   ]
  },
  {
   "cell_type": "code",
   "execution_count": 8,
   "id": "d2001b4a-30d9-4fdc-8804-90dc9faa3ffa",
   "metadata": {},
   "outputs": [
    {
     "data": {
      "text/plain": [
       "S.No.                488\n",
       "Name                 488\n",
       "Mar Cap - Crore      480\n",
       "Sales Qtr - Crore    459\n",
       "dtype: int64"
      ]
     },
     "execution_count": 8,
     "metadata": {},
     "output_type": "execute_result"
    }
   ],
   "source": [
    "finance.nunique()"
   ]
  },
  {
   "cell_type": "code",
   "execution_count": 16,
   "id": "c7d7aad0-1c80-4c31-9267-570d760de311",
   "metadata": {},
   "outputs": [],
   "source": [
    "finance['Market_Cap_Rank'] = finance['Mar Cap - Crore'].rank(ascending=False)"
   ]
  },
  {
   "cell_type": "code",
   "execution_count": 11,
   "id": "b1af4a80-e34f-43f1-a6ed-9ce55139ac3d",
   "metadata": {},
   "outputs": [
    {
     "data": {
      "text/plain": [
       "Index(['S.No.', 'Name', 'Mar Cap - Crore', 'Sales Qtr - Crore'], dtype='object')"
      ]
     },
     "execution_count": 11,
     "metadata": {},
     "output_type": "execute_result"
    }
   ],
   "source": [
    "finance.columns"
   ]
  },
  {
   "cell_type": "code",
   "execution_count": 17,
   "id": "945db918-068a-4094-9af5-08b4c6ef163b",
   "metadata": {},
   "outputs": [],
   "source": [
    "finance['Sales_Rank'] = finance['Sales Qtr - Crore'].rank(ascending=False)"
   ]
  },
  {
   "cell_type": "code",
   "execution_count": 18,
   "id": "0c6e20c8-432e-4b05-aa41-3a30a4e553fb",
   "metadata": {},
   "outputs": [],
   "source": [
    "finance['Market_Cap_to_Sales_Ratio'] = finance['Mar Cap - Crore'] / finance['Sales Qtr - Crore']"
   ]
  },
  {
   "cell_type": "code",
   "execution_count": 19,
   "id": "42e7d5d2-dd2f-4615-b270-b8830fee3cfa",
   "metadata": {},
   "outputs": [
    {
     "name": "stdout",
     "output_type": "stream",
     "text": [
      "Correlation between Market Cap and Quarterly Sales:\n",
      "                   Mar Cap - Crore  Sales Qtr - Crore\n",
      "Mar Cap - Crore            1.00000            0.62689\n",
      "Sales Qtr - Crore          0.62689            1.00000\n"
     ]
    }
   ],
   "source": [
    "# Correlation Analysis\n",
    "correlation_matrix = finance[['Mar Cap - Crore', 'Sales Qtr - Crore']].corr()\n",
    "print(\"Correlation between Market Cap and Quarterly Sales:\")\n",
    "print(correlation_matrix)"
   ]
  },
  {
   "cell_type": "code",
   "execution_count": 25,
   "id": "6497050d-f60c-48b7-86ba-2dbca2037b68",
   "metadata": {},
   "outputs": [
    {
     "data": {
      "text/plain": [
       "Text(0, 0.5, 'Market Cap (Crores)')"
      ]
     },
     "execution_count": 25,
     "metadata": {},
     "output_type": "execute_result"
    },
    {
     "data": {
      "image/png": "[encoded data removed]",
      "text/plain": [
       "<Figure size 640x480 with 1 Axes>"
      ]
     },
     "metadata": {},
     "output_type": "display_data"
    }
   ],
   "source": [
    "# Market Capitalization vs Quarterly Sales\n",
    "#plt.subplot(1, 2, 1)\n",
    "sns.scatterplot(data=finance, x='Sales Qtr - Crore', y='Mar Cap - Crore')\n",
    "plt.title('Market Capitalization vs Quarterly Sales')\n",
    "plt.xlabel('Quarterly Sales (Crores)')\n",
    "plt.ylabel('Market Cap (Crores)')"
   ]
  },
  {
   "cell_type": "code",
   "execution_count": 28,
   "id": "cde24d65-4f77-4648-a07e-76bbbaf2cb79",
   "metadata": {},
   "outputs": [
    {
     "data": {
      "image/png": "[encoded data removed]",
      "text/plain": [
       "<Figure size 640x480 with 1 Axes>"
      ]
     },
     "metadata": {},
     "output_type": "display_data"
    }
   ],
   "source": [
    "# Market Cap to Sales Ratio Distribution\n",
    "\n",
    "sns.histplot(finance['Market_Cap_to_Sales_Ratio'], bins=30)\n",
    "plt.title('Market Cap to Sales Ratio Distribution')\n",
    "plt.xlabel('Market Cap to Sales Ratio')\n",
    "plt.ylabel('Frequency')\n",
    "\n",
    "plt.tight_layout()\n",
    "plt.show()"
   ]
  },
  {
   "cell_type": "code",
   "execution_count": 30,
   "id": "d708ed17-65fc-45da-9f98-41a253d81856",
   "metadata": {},
   "outputs": [
    {
     "name": "stdout",
     "output_type": "stream",
     "text": [
      "Top 10 Companies by Market Capitalization:\n",
      "             Name  Mar Cap - Crore  Market_Cap_Rank\n",
      "0  Reliance Inds.        583436.72              1.0\n",
      "1             TCS        563709.84              2.0\n",
      "2       HDFC Bank        482953.59              3.0\n",
      "3             ITC        320985.27              4.0\n",
      "4         H D F C        289497.37              5.0\n",
      "5  Hind. Unilever        288265.26              6.0\n",
      "6   Maruti Suzuki        263493.81              7.0\n",
      "7         Infosys        248320.35              8.0\n",
      "8         O N G C        239981.50              9.0\n",
      "9  St Bk of India        232763.33             10.0\n"
     ]
    }
   ],
   "source": [
    "# Display the top companies by Market Cap\n",
    "top_market_cap = finance.sort_values(by='Mar Cap - Crore', ascending=False).head(10)\n",
    "print(\"Top 10 Companies by Market Capitalization:\")\n",
    "print(top_market_cap[['Name', 'Mar Cap - Crore', 'Market_Cap_Rank']])"
   ]
  },
  {
   "cell_type": "code",
   "execution_count": 31,
   "id": "584a5f55-4921-4ae4-b716-08bd042f0643",
   "metadata": {},
   "outputs": [
    {
     "name": "stdout",
     "output_type": "stream",
     "text": [
      "Top 10 Companies by Quarterly Sales:\n",
      "                Name  Sales Qtr - Crore  Sales_Rank\n",
      "14           I O C L          110666.93         1.0\n",
      "0     Reliance Inds.           99810.00         2.0\n",
      "23       Tata Motors           74156.07         3.0\n",
      "27           B P C L           60616.36         4.0\n",
      "54           H P C L           57474.25         5.0\n",
      "9     St Bk of India           57014.08         6.0\n",
      "122   Rajesh Exports           41304.84         7.0\n",
      "40        Tata Steel           32464.14         8.0\n",
      "1                TCS           30904.00         9.0\n",
      "13   Larsen & Toubro           28747.45        10.0\n"
     ]
    }
   ],
   "source": [
    "# Display the top companies by Quarterly Sales\n",
    "top_sales = finance.sort_values(by='Sales Qtr - Crore', ascending=False).head(10)\n",
    "print(\"Top 10 Companies by Quarterly Sales:\")\n",
    "print(top_sales[['Name', 'Sales Qtr - Crore', 'Sales_Rank']])"
   ]
  },
  {
   "cell_type": "code",
   "execution_count": null,
   "id": "1534063d-efe1-4ff5-888b-dda212e150e4",
   "metadata": {},
   "outputs": [],
   "source": []
  }
 ],
 "metadata": {
  "kernelspec": {
   "display_name": "Python 3 (ipykernel)",
   "language": "python",
   "name": "python3"
  },
  "language_info": {
   "codemirror_mode": {
    "name": "ipython",
    "version": 3
   },
   "file_extension": ".py",
   "mimetype": "text/x-python",
   "name": "python",
   "nbconvert_exporter": "python",
   "pygments_lexer": "ipython3",
   "version": "3.11.4"
  }
 },
 "nbformat": 4,
 "nbformat_minor": 5
}
